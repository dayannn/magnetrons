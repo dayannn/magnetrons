{
 "cells": [
  {
   "cell_type": "code",
   "execution_count": 801,
   "metadata": {},
   "outputs": [],
   "source": [
    "import numpy as np\n",
    "import pandas as pd\n",
    "import scipy\n",
    "from scipy import integrate\n",
    "import math\n",
    "import matplotlib.pyplot as plt\n",
    "import tqdm\n",
    "%matplotlib inline  \n"
   ]
  },
  {
   "cell_type": "markdown",
   "metadata": {},
   "source": [
    "Начальные данные"
   ]
  },
  {
   "cell_type": "code",
   "execution_count": 802,
   "metadata": {},
   "outputs": [],
   "source": [
    "# радиус барабана\n",
    "Rb = 10\n",
    "\n",
    "# радиус объекта\n",
    "Ro = 1\n",
    "\n",
    "# высота объекта\n",
    "Ho = 10\n",
    "\n",
    "# угловая скорость барабана\n",
    "Wb = 0.175                    # рад/с ~10 град в сек\n",
    "\n",
    "# угловая скорость объекта\n",
    "Wo = 0.175                  # рад/с ~10 град в сек\n",
    "\n",
    "# расстояние до мишени\n",
    "L = 20\n",
    "\n",
    "# ширина мишени\n",
    "Wm = 8\n",
    "\n",
    "# высота мишени\n",
    "Hm = 15\n",
    "\n",
    "# количество объектов\n",
    "obj_num = 8"
   ]
  },
  {
   "cell_type": "code",
   "execution_count": 803,
   "metadata": {},
   "outputs": [],
   "source": [
    "starting_point_b = np.array([0, Rb])\n",
    "starting_point_o = np.array([0, Ro])"
   ]
  },
  {
   "cell_type": "code",
   "execution_count": 804,
   "metadata": {},
   "outputs": [],
   "source": [
    "# angle in radians\n",
    "def rotate_point_0 (point, angle):\n",
    "    x1 = point[0] * np.cos(angle) - point[1] * np.sin(angle)\n",
    "    y1 = point[0] * np.sin(angle) + point[1] * np.cos(angle)\n",
    "    return np.array([x1, y1])"
   ]
  },
  {
   "cell_type": "code",
   "execution_count": 805,
   "metadata": {},
   "outputs": [],
   "source": [
    "point = np.array([1, 2])"
   ]
  },
  {
   "cell_type": "code",
   "execution_count": 806,
   "metadata": {},
   "outputs": [
    {
     "data": {
      "text/plain": [
       "1.5707963267948966"
      ]
     },
     "execution_count": 806,
     "metadata": {},
     "output_type": "execute_result"
    }
   ],
   "source": [
    "angle = 90\n",
    "angle_rad = np.deg2rad(angle)\n",
    "angle_rad\n"
   ]
  },
  {
   "cell_type": "code",
   "execution_count": 807,
   "metadata": {},
   "outputs": [
    {
     "data": {
      "text/plain": [
       "array([-2.,  1.])"
      ]
     },
     "execution_count": 807,
     "metadata": {},
     "output_type": "execute_result"
    }
   ],
   "source": [
    "rotate_point_0 (point, angle_rad)"
   ]
  },
  {
   "cell_type": "code",
   "execution_count": 808,
   "metadata": {},
   "outputs": [],
   "source": [
    "# угол поворота, w - угловая скорость\n",
    "def get_current_angle (w, t):\n",
    "    return (w*t) % (2*np.pi)"
   ]
  },
  {
   "cell_type": "code",
   "execution_count": 809,
   "metadata": {},
   "outputs": [],
   "source": [
    "def get_object_center (Wb, point_b, t):\n",
    "    alpha_b = get_current_angle(Wb, t)\n",
    "    vec_b = rotate_point_0(point_b, alpha_b)\n",
    "    return vec_b"
   ]
  },
  {
   "cell_type": "code",
   "execution_count": 810,
   "metadata": {},
   "outputs": [],
   "source": [
    "# point_b  начальное опложение центра объекта, point_o - начальное положение точки на объекте относительно его центра\n",
    "def get_point_coords (Wb, Wo, point_b, point_o, t):\n",
    "    vec_b = get_object_center(Wb, point_b, t)\n",
    "    alpha_o = get_current_angle(Wo, t)\n",
    "    vec_o = rotate_point_0(point_o, alpha_o)\n",
    "    return vec_b + vec_o"
   ]
  },
  {
   "cell_type": "code",
   "execution_count": 811,
   "metadata": {},
   "outputs": [],
   "source": [
    "def get_normal_vec(center, point):\n",
    "    return point - center"
   ]
  },
  {
   "cell_type": "code",
   "execution_count": 812,
   "metadata": {},
   "outputs": [],
   "source": [
    "time_spent = 1"
   ]
  },
  {
   "cell_type": "code",
   "execution_count": 813,
   "metadata": {},
   "outputs": [
    {
     "data": {
      "text/plain": [
       "array([-1.74108138,  9.84726539])"
      ]
     },
     "execution_count": 813,
     "metadata": {},
     "output_type": "execute_result"
    }
   ],
   "source": [
    "cent = get_object_center(Wb, starting_point_b, time_spent)\n",
    "cent"
   ]
  },
  {
   "cell_type": "code",
   "execution_count": 814,
   "metadata": {},
   "outputs": [
    {
     "data": {
      "text/plain": [
       "array([-1.91518951, 10.83199193])"
      ]
     },
     "execution_count": 814,
     "metadata": {},
     "output_type": "execute_result"
    }
   ],
   "source": [
    "point = get_point_coords(Wb, Wo, starting_point_b, starting_point_o, time_spent)\n",
    "point"
   ]
  },
  {
   "cell_type": "code",
   "execution_count": 815,
   "metadata": {},
   "outputs": [
    {
     "data": {
      "text/plain": [
       "array([-0.17410814,  0.98472654])"
      ]
     },
     "execution_count": 815,
     "metadata": {},
     "output_type": "execute_result"
    }
   ],
   "source": [
    "normal = get_normal_vec(cent, point)\n",
    "normal"
   ]
  },
  {
   "cell_type": "code",
   "execution_count": 816,
   "metadata": {},
   "outputs": [],
   "source": [
    "def get_cosin(v1, v2):\n",
    "    return 1 - scipy.spatial.distance.cosine(v1, v2)"
   ]
  },
  {
   "cell_type": "code",
   "execution_count": 817,
   "metadata": {},
   "outputs": [],
   "source": [
    "def get_sin(v1, v2):\n",
    "    return math.sqrt(1 - get_cosin(v1, v2)**2)"
   ]
  },
  {
   "cell_type": "code",
   "execution_count": 818,
   "metadata": {},
   "outputs": [
    {
     "data": {
      "text/plain": [
       "0.24253562503633297"
      ]
     },
     "execution_count": 818,
     "metadata": {},
     "output_type": "execute_result"
    }
   ],
   "source": [
    "get_cosin([1, 0], [0.25, -1])"
   ]
  },
  {
   "cell_type": "code",
   "execution_count": 819,
   "metadata": {},
   "outputs": [
    {
     "data": {
      "text/plain": [
       "0.9701425001453319"
      ]
     },
     "execution_count": 819,
     "metadata": {},
     "output_type": "execute_result"
    }
   ],
   "source": [
    "get_sin([1, 0], [0.25, -1])"
   ]
  },
  {
   "cell_type": "code",
   "execution_count": 820,
   "metadata": {},
   "outputs": [],
   "source": [
    "# f= lambda y, x: x*y**2 + 1\n",
    "# integrate.dblquad(f, 6, 9, lambda x: -1, lambda x: x+1)"
   ]
  },
  {
   "cell_type": "code",
   "execution_count": 821,
   "metadata": {},
   "outputs": [],
   "source": [
    "# расстояние между скрещивающимися прямыми\n",
    "def closestDistanceBetweenLines(a0,a1,b0,b1,clampAll=False,clampA0=False,clampA1=False,clampB0=False,clampB1=False):\n",
    "\n",
    "    ''' Given two lines defined by numpy.array pairs (a0,a1,b0,b1)\n",
    "        Return the closest points on each segment and their distance\n",
    "    '''\n",
    "\n",
    "    # If clampAll=True, set all clamps to True\n",
    "    if clampAll:\n",
    "        clampA0=True\n",
    "        clampA1=True\n",
    "        clampB0=True\n",
    "        clampB1=True\n",
    "\n",
    "\n",
    "    # Calculate denomitator\n",
    "    A = a1 - a0\n",
    "    B = b1 - b0\n",
    "    magA = np.linalg.norm(A)\n",
    "    magB = np.linalg.norm(B)\n",
    "\n",
    "    _A = A / magA\n",
    "    _B = B / magB\n",
    "\n",
    "    cross = np.cross(_A, _B);\n",
    "    denom = np.linalg.norm(cross)**2\n",
    "\n",
    "\n",
    "    # If lines are parallel (denom=0) test if lines overlap.\n",
    "    # If they don't overlap then there is a closest point solution.\n",
    "    # If they do overlap, there are infinite closest positions, but there is a closest distance\n",
    "    if not denom:\n",
    "        d0 = np.dot(_A,(b0-a0))\n",
    "\n",
    "        # Overlap only possible with clamping\n",
    "        if clampA0 or clampA1 or clampB0 or clampB1:\n",
    "            d1 = np.dot(_A,(b1-a0))\n",
    "\n",
    "            # Is segment B before A?\n",
    "            if d0 <= 0 >= d1:\n",
    "                if clampA0 and clampB1:\n",
    "                    if np.absolute(d0) < np.absolute(d1):\n",
    "                        return a0,b0,np.linalg.norm(a0-b0)\n",
    "                    return a0,b1,np.linalg.norm(a0-b1)\n",
    "\n",
    "\n",
    "            # Is segment B after A?\n",
    "            elif d0 >= magA <= d1:\n",
    "                if clampA1 and clampB0:\n",
    "                    if np.absolute(d0) < np.absolute(d1):\n",
    "                        return a1,b0,np.linalg.norm(a1-b0)\n",
    "                    return a1,b1,np.linalg.norm(a1-b1)\n",
    "\n",
    "\n",
    "        # Segments overlap, return distance between parallel segments\n",
    "        return None,None,np.linalg.norm(((d0*_A)+a0)-b0)\n",
    "\n",
    "\n",
    "\n",
    "    # Lines criss-cross: Calculate the projected closest points\n",
    "    t = (b0 - a0);\n",
    "    detA = np.linalg.det([t, _B, cross])\n",
    "    detB = np.linalg.det([t, _A, cross])\n",
    "\n",
    "    t0 = detA/denom;\n",
    "    t1 = detB/denom;\n",
    "\n",
    "    pA = a0 + (_A * t0) # Projected closest point on segment A\n",
    "    pB = b0 + (_B * t1) # Projected closest point on segment B\n",
    "\n",
    "\n",
    "#     # Clamp projections\n",
    "#     if clampA0 or clampA1 or clampB0 or clampB1:\n",
    "#         if clampA0 and t0 < 0:\n",
    "#             pA = a0\n",
    "#         elif clampA1 and t0 > magA:\n",
    "#             pA = a1\n",
    "\n",
    "#         if clampB0 and t1 < 0:\n",
    "#             pB = b0\n",
    "#         elif clampB1 and t1 > magB:\n",
    "#             pB = b1\n",
    "\n",
    "#         # Clamp projection A\n",
    "#         if (clampA0 and t0 < 0) or (clampA1 and t0 > magA):\n",
    "#             dot = np.dot(_B,(pA-b0))\n",
    "#             if clampB0 and dot < 0:\n",
    "#                 dot = 0\n",
    "#             elif clampB1 and dot > magB:\n",
    "#                 dot = magB\n",
    "#             pB = b0 + (_B * dot)\n",
    "\n",
    "#         # Clamp projection B\n",
    "#         if (clampB0 and t1 < 0) or (clampB1 and t1 > magB):\n",
    "#             dot = np.dot(_A,(pB-a0))\n",
    "#             if clampA0 and dot < 0:\n",
    "#                 dot = 0\n",
    "#             elif clampA1 and dot > magA:\n",
    "#                 dot = magA\n",
    "#             pA = a0 + (_A * dot)\n",
    "\n",
    "\n",
    "    return pA,pB,np.linalg.norm(pA-pB)"
   ]
  },
  {
   "cell_type": "code",
   "execution_count": 822,
   "metadata": {},
   "outputs": [],
   "source": [
    "def is_hidden_by_another_object(a0, a1, objects_centers, Ro):\n",
    "    for center in objects_centers:\n",
    "        b0 = np.array([center[0], center[1], 0])\n",
    "        b1 = np.array([center[0], center[1], 1])\n",
    "        pA, pB, l = closestDistanceBetweenLines(a0, a1, b0, b1)\n",
    "        if l <= Ro:\n",
    "            return True\n",
    "    return False"
   ]
  },
  {
   "cell_type": "code",
   "execution_count": 823,
   "metadata": {},
   "outputs": [],
   "source": [
    "def get_function_value (target_p, object_p, n, objects_centers, Ro):\n",
    "\n",
    "    \n",
    "    n1 = np.array([0, 0, -1])   # нормаль к плоскости мишени\n",
    "    s = target_p - object_p     # вектор он точки на объекте к точке на мишени\n",
    "    s1 = object_p - target_p \n",
    "    cos_teta = get_cosin(n, s)\n",
    "    \n",
    "#     print (\"target=\", target_p)\n",
    "#     print (\"object=\", object_p)\n",
    "#     print (\"normal=\", n)\n",
    "#     print (\"s=\", s)\n",
    "#     print (\"\\n\")\n",
    "    \n",
    "    \n",
    "#     if (cos_teta > 0):\n",
    "#         print (\"reachable\")\n",
    "    if cos_teta < 0:            # точка на объекте не видима с точки на мишени\n",
    "        return 0\n",
    "    \n",
    "    if is_hidden_by_another_object(object_p, target_p, objects_centers, Ro):     # точка скрыта за других цилиндром\n",
    "        return 0;\n",
    "    \n",
    "    cos_teta1 = abs(get_cosin(n1, s1))\n",
    "    sin_teta1 = abs(get_sin(n1, s1))\n",
    "    \n",
    "    res = (sin_teta1 * cos_teta)\n",
    "    if (res < 0):\n",
    "        print (\"Achtung! res = \", res)\n",
    "    return res # * Im0\n",
    "\n",
    "# point - точка на цилиндре, n - нормаль к этой точке\n",
    "# t1 - верхняя левая точна мишени t2 - нижняя правая точка мишени (мишень - плоская)\n",
    "# objects_centers - центры цилиндров КРОМЕ рассматриваемого\n",
    "def integrate_one_point(point, n, t1, t2, objects_centers, Ro):\n",
    "    x_target = t1[0]\n",
    "    f= lambda y, z: get_function_value (np.array([x_target, y, z]), point, n, objects_centers, Ro)\n",
    "    (val, err) = integrate.dblquad(f, t1[1], t2[1], lambda z: t1[2], lambda z: t2[2], epsabs = 1, epsrel=1)\n",
    "#     print (val, err)\n",
    "    return val"
   ]
  },
  {
   "cell_type": "code",
   "execution_count": 824,
   "metadata": {},
   "outputs": [],
   "source": [
    "#integrate_one_point (np.array([50, -25, 0]), np.array([0, -1, 0]), np.array([150, 10, 20]), np.array([150, -10, -20]))"
   ]
  },
  {
   "cell_type": "code",
   "execution_count": 825,
   "metadata": {},
   "outputs": [],
   "source": [
    "def get_target_coords (L, Wm, Hm):\n",
    "    t1 = np.array([L, Wm/2, Hm/2])\n",
    "    t2 = np.array([L, -Wm/2, -Hm/2])\n",
    "    return (t1, t2)\n",
    "    "
   ]
  },
  {
   "cell_type": "code",
   "execution_count": 826,
   "metadata": {},
   "outputs": [],
   "source": [
    "# point_o - начальное положение точки на объекте относительно его центра\n",
    "def get_point_coords (point_center, Wo, start_angle, t, Ro):\n",
    "    alpha_o = (get_current_angle(Wo, t) + start_angle) % (2*np.pi)\n",
    "    point_o = np.array([0, Ro])\n",
    "    vec_o = rotate_point_0(point_o, alpha_o)\n",
    "    return point_center + vec_o"
   ]
  },
  {
   "cell_type": "code",
   "execution_count": 827,
   "metadata": {},
   "outputs": [],
   "source": [
    "def get_object_points(point_center, num, Wo, t, Ro):\n",
    "    res = []\n",
    "    delta = (2*np.pi) / (num)\n",
    "    for i in range (0, num):\n",
    "        p = get_point_coords (point_center, Wo, delta*i, t, Ro)\n",
    "        res.append([p[0], p[1], 0])\n",
    "    return res"
   ]
  },
  {
   "cell_type": "code",
   "execution_count": 828,
   "metadata": {},
   "outputs": [],
   "source": [
    "#get_object_points([0, 0], 12, 0.175, 0, Ro)"
   ]
  },
  {
   "cell_type": "code",
   "execution_count": 829,
   "metadata": {},
   "outputs": [],
   "source": [
    "turn_time = 6.283/ abs(Wb) # время полного оборота барабана"
   ]
  },
  {
   "cell_type": "code",
   "execution_count": 830,
   "metadata": {},
   "outputs": [
    {
     "data": {
      "text/plain": [
       "35.902857142857144"
      ]
     },
     "execution_count": 830,
     "metadata": {},
     "output_type": "execute_result"
    }
   ],
   "source": [
    "turn_time"
   ]
  },
  {
   "cell_type": "code",
   "execution_count": 831,
   "metadata": {},
   "outputs": [],
   "source": [
    "time_n = 10    # количество измерений за 1 оборот"
   ]
  },
  {
   "cell_type": "code",
   "execution_count": 832,
   "metadata": {},
   "outputs": [
    {
     "data": {
      "text/plain": [
       "3.5902857142857143"
      ]
     },
     "execution_count": 832,
     "metadata": {},
     "output_type": "execute_result"
    }
   ],
   "source": [
    "time_delta = turn_time / time_n\n",
    "time_delta"
   ]
  },
  {
   "cell_type": "code",
   "execution_count": 833,
   "metadata": {},
   "outputs": [],
   "source": [
    "turns_num = 10    # количество оборотов барабана"
   ]
  },
  {
   "cell_type": "code",
   "execution_count": 834,
   "metadata": {},
   "outputs": [
    {
     "data": {
      "text/plain": [
       "100"
      ]
     },
     "execution_count": 834,
     "metadata": {},
     "output_type": "execute_result"
    }
   ],
   "source": [
    "calc_num = time_n * turns_num\n",
    "calc_num"
   ]
  },
  {
   "cell_type": "code",
   "execution_count": 835,
   "metadata": {},
   "outputs": [],
   "source": [
    "# возвращает центры цилиндров, кроме первого (рассматриваемого)\n",
    "def get_objects_centers(Wb, starting_point_b, cur_time, obj_num):\n",
    "    delta = np.pi * 2 / obj_num;\n",
    "    \n",
    "    res = []\n",
    "    \n",
    "    for i in range (1, obj_num):\n",
    "        alpha_b = (get_current_angle(Wb, cur_time) + delta * i) % (2*np.pi)\n",
    "        vec_b = rotate_point_0(starting_point_b, alpha_b)\n",
    "        res.append(vec_b)\n",
    "    return np.array(res)"
   ]
  },
  {
   "cell_type": "code",
   "execution_count": 836,
   "metadata": {},
   "outputs": [],
   "source": [
    "#get_objects_centers(Wb, starting_point_b, 4, 8)"
   ]
  },
  {
   "cell_type": "code",
   "execution_count": 837,
   "metadata": {},
   "outputs": [
    {
     "data": {
      "application/vnd.jupyter.widget-view+json": {
       "model_id": "2ad887dd399443ad95570be84517eb77",
       "version_major": 2,
       "version_minor": 0
      },
      "text/plain": [
       "HBox(children=(FloatProgress(value=0.0), HTML(value='')))"
      ]
     },
     "metadata": {},
     "output_type": "display_data"
    },
    {
     "name": "stdout",
     "output_type": "stream",
     "text": [
      "\n"
     ]
    },
    {
     "data": {
      "text/plain": [
       "array([ 4066.53288855,  5261.54623017,  6908.05900218,  8811.32820461,\n",
       "       10233.90302749, 10925.16127237, 11535.97761531, 10954.01922458,\n",
       "       10350.06581041,  8797.64694668,  6833.02892754,  5291.61021423])"
      ]
     },
     "execution_count": 837,
     "metadata": {},
     "output_type": "execute_result"
    }
   ],
   "source": [
    "cur_time = 0\n",
    "obj_point_num = 12      # колчество точек на цилиндре, в которых вычисляется толщина\n",
    "\n",
    "res = np.zeros(obj_point_num)\n",
    "t1, t2 = get_target_coords (L, Wm, Hm)\n",
    "\n",
    "for i in tqdm.notebook.tqdm(range (0, calc_num)):\n",
    "#     print (\"\\nturn\\n\")\n",
    "    cent = get_object_center(Wb, starting_point_b, cur_time)\n",
    "    cent_3d = np.array([cent[0], cent[1], 0])\n",
    "    pts = get_object_points(cent, obj_point_num, Wo, cur_time, Ro)\n",
    "    \n",
    "    centers = get_objects_centers(Wb, starting_point_b, cur_time, obj_num)\n",
    "    \n",
    "    for i in range (0, obj_point_num):\n",
    "        p = pts[i]\n",
    "        normal = get_normal_vec(cent_3d, p)\n",
    "        normal_3d = np.array([normal[0], normal[1], 0])\n",
    "        \n",
    "        res[i] = res[i] + time_delta * integrate_one_point(pts[i], normal_3d, t1, t2, centers, Ro)\n",
    "    \n",
    "    cur_time += time_delta\n",
    "\n",
    "    \n",
    "res"
   ]
  },
  {
   "cell_type": "code",
   "execution_count": 838,
   "metadata": {},
   "outputs": [
    {
     "data": {
      "image/png": "[encoded data removed]",
      "text/plain": [
       "<Figure size 432x288 with 1 Axes>"
      ]
     },
     "metadata": {
      "needs_background": "light"
     },
     "output_type": "display_data"
    }
   ],
   "source": [
    "plt.figure()\n",
    "plt.plot(res)\n",
    "plt.ylim(bottom = 0, top = res.max()*1.1)\n",
    "plt.show()"
   ]
  },
  {
   "cell_type": "code",
   "execution_count": 839,
   "metadata": {},
   "outputs": [
    {
     "data": {
      "text/plain": [
       "2.836809127449014"
      ]
     },
     "execution_count": 839,
     "metadata": {},
     "output_type": "execute_result"
    }
   ],
   "source": [
    "res.max()/res.min()"
   ]
  },
  {
   "cell_type": "code",
   "execution_count": null,
   "metadata": {},
   "outputs": [],
   "source": []
  }
 ],
 "metadata": {
  "kernelspec": {
   "display_name": "Python 3",
   "language": "python",
   "name": "python3"
  },
  "language_info": {
   "codemirror_mode": {
    "name": "ipython",
    "version": 3
   },
   "file_extension": ".py",
   "mimetype": "text/x-python",
   "name": "python",
   "nbconvert_exporter": "python",
   "pygments_lexer": "ipython3",
   "version": "3.7.6"
  }
 },
 "nbformat": 4,
 "nbformat_minor": 2
}
