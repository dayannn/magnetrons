{
 "cells": [
  {
   "cell_type": "code",
   "execution_count": 73,
   "metadata": {},
   "outputs": [],
   "source": [
    "import numpy as np\n",
    "import pandas as pd\n",
    "import scipy\n",
    "from scipy import integrate\n",
    "import math\n",
    "import matplotlib.pyplot as plt\n",
    "import tqdm\n",
    "%matplotlib inline  \n"
   ]
  },
  {
   "cell_type": "markdown",
   "metadata": {},
   "source": [
    "Начальные данные"
   ]
  },
  {
   "cell_type": "code",
   "execution_count": 2,
   "metadata": {},
   "outputs": [],
   "source": [
    "# радиус барабана\n",
    "Rb = 10\n",
    "\n",
    "# радиус объекта\n",
    "Ro = 1\n",
    "\n",
    "# высота объекта\n",
    "Ho = 10\n",
    "\n",
    "# угловая скорость барабана\n",
    "Wb = 0.175                    # рад/с ~10 град в сек\n",
    "\n",
    "# угловая скорость объекта\n",
    "Wo = 0.35                   # рад/с ~10 град в сек\n",
    "\n",
    "# расстояние до мишени\n",
    "L = 20\n",
    "\n",
    "# ширина мишени\n",
    "Wm = 8\n",
    "\n",
    "# высота мишени\n",
    "Hm = 15\n"
   ]
  },
  {
   "cell_type": "code",
   "execution_count": 3,
   "metadata": {},
   "outputs": [],
   "source": [
    "starting_point_b = np.array([0, Rb])\n",
    "starting_point_o = np.array([0, Ro])"
   ]
  },
  {
   "cell_type": "code",
   "execution_count": 4,
   "metadata": {},
   "outputs": [],
   "source": [
    "# angle in radians\n",
    "def rotate_point_0 (point, angle):\n",
    "    x1 = point[0] * np.cos(angle) - point[1] * np.sin(angle)\n",
    "    y1 = point[0] * np.sin(angle) + point[1] * np.cos(angle)\n",
    "    return np.array([x1, y1])"
   ]
  },
  {
   "cell_type": "code",
   "execution_count": 5,
   "metadata": {},
   "outputs": [],
   "source": [
    "point = np.array([1, 2])"
   ]
  },
  {
   "cell_type": "code",
   "execution_count": 6,
   "metadata": {},
   "outputs": [
    {
     "data": {
      "text/plain": [
       "1.5707963267948966"
      ]
     },
     "execution_count": 6,
     "metadata": {},
     "output_type": "execute_result"
    }
   ],
   "source": [
    "angle = 90\n",
    "angle_rad = np.deg2rad(angle)\n",
    "angle_rad\n"
   ]
  },
  {
   "cell_type": "code",
   "execution_count": 7,
   "metadata": {},
   "outputs": [
    {
     "data": {
      "text/plain": [
       "array([-2.,  1.])"
      ]
     },
     "execution_count": 7,
     "metadata": {},
     "output_type": "execute_result"
    }
   ],
   "source": [
    "rotate_point_0 (point, angle_rad)"
   ]
  },
  {
   "cell_type": "code",
   "execution_count": 8,
   "metadata": {},
   "outputs": [],
   "source": [
    "# угол поворота, w - угловая скорость\n",
    "def get_current_angle (w, t):\n",
    "    return (w*t) % (2*np.pi)"
   ]
  },
  {
   "cell_type": "code",
   "execution_count": 9,
   "metadata": {},
   "outputs": [],
   "source": [
    "def get_object_center (Wb, point_b, t):\n",
    "    alpha_b = get_current_angle(Wb, t)\n",
    "    vec_b = rotate_point_0(point_b, alpha_b)\n",
    "    return vec_b"
   ]
  },
  {
   "cell_type": "code",
   "execution_count": 10,
   "metadata": {},
   "outputs": [],
   "source": [
    "# point_b  начальное опложение центра объекта, point_o - начальное положение точки на объекте относительно его центра\n",
    "def get_point_coords (Wb, Wo, point_b, point_o, t):\n",
    "    vec_b = get_object_center(Wb, point_b, t)\n",
    "    alpha_o = get_current_angle(Wo, t)\n",
    "    vec_o = rotate_point_0(point_o, alpha_o)\n",
    "    return vec_b + vec_o"
   ]
  },
  {
   "cell_type": "code",
   "execution_count": 11,
   "metadata": {},
   "outputs": [],
   "source": [
    "def get_normal_vec(center, point):\n",
    "    return point - center"
   ]
  },
  {
   "cell_type": "code",
   "execution_count": 12,
   "metadata": {},
   "outputs": [],
   "source": [
    "time_spent = 1"
   ]
  },
  {
   "cell_type": "code",
   "execution_count": 13,
   "metadata": {},
   "outputs": [
    {
     "data": {
      "text/plain": [
       "array([-1.74108138,  9.84726539])"
      ]
     },
     "execution_count": 13,
     "metadata": {},
     "output_type": "execute_result"
    }
   ],
   "source": [
    "cent = get_object_center(Wb, starting_point_b, time_spent)\n",
    "cent"
   ]
  },
  {
   "cell_type": "code",
   "execution_count": 14,
   "metadata": {},
   "outputs": [
    {
     "data": {
      "text/plain": [
       "array([-2.08397918, 10.7866381 ])"
      ]
     },
     "execution_count": 14,
     "metadata": {},
     "output_type": "execute_result"
    }
   ],
   "source": [
    "point = get_point_coords(Wb, Wo, starting_point_b, starting_point_o, time_spent)\n",
    "point"
   ]
  },
  {
   "cell_type": "code",
   "execution_count": 15,
   "metadata": {},
   "outputs": [
    {
     "data": {
      "text/plain": [
       "array([-0.34289781,  0.93937271])"
      ]
     },
     "execution_count": 15,
     "metadata": {},
     "output_type": "execute_result"
    }
   ],
   "source": [
    "normal = get_normal_vec(cent, point)\n",
    "normal"
   ]
  },
  {
   "cell_type": "code",
   "execution_count": 16,
   "metadata": {},
   "outputs": [],
   "source": [
    "def get_cosin(v1, v2):\n",
    "    return 1 - scipy.spatial.distance.cosine(v1, v2)"
   ]
  },
  {
   "cell_type": "code",
   "execution_count": 17,
   "metadata": {},
   "outputs": [],
   "source": [
    "def get_sin(v1, v2):\n",
    "    return math.sqrt(1 - get_cosin(v1, v2)**2)"
   ]
  },
  {
   "cell_type": "code",
   "execution_count": 18,
   "metadata": {},
   "outputs": [
    {
     "data": {
      "text/plain": [
       "0.24253562503633297"
      ]
     },
     "execution_count": 18,
     "metadata": {},
     "output_type": "execute_result"
    }
   ],
   "source": [
    "get_cosin([1, 0], [0.25, -1])"
   ]
  },
  {
   "cell_type": "code",
   "execution_count": 19,
   "metadata": {},
   "outputs": [
    {
     "data": {
      "text/plain": [
       "0.9701425001453319"
      ]
     },
     "execution_count": 19,
     "metadata": {},
     "output_type": "execute_result"
    }
   ],
   "source": [
    "get_sin([1, 0], [0.25, -1])"
   ]
  },
  {
   "cell_type": "code",
   "execution_count": 20,
   "metadata": {},
   "outputs": [],
   "source": [
    "# f= lambda y, x: x*y**2 + 1\n",
    "# integrate.dblquad(f, 6, 9, lambda x: -1, lambda x: x+1)"
   ]
  },
  {
   "cell_type": "code",
   "execution_count": 71,
   "metadata": {},
   "outputs": [],
   "source": [
    "def get_function_value (target_p, object_p, n):\n",
    "\n",
    "    \n",
    "    n1 = np.array([0, 0, -1])   # нормаль к плоскости мишени\n",
    "    s = target_p - object_p     # вектор он точки на объекте к точке на мишени\n",
    "    s1 = object_p - target_p \n",
    "    cos_teta = get_cosin(n, s)\n",
    "    \n",
    "#     print (\"target=\", target_p)\n",
    "#     print (\"object=\", object_p)\n",
    "#     print (\"normal=\", n)\n",
    "#     print (\"s=\", s)\n",
    "#     print (\"\\n\")\n",
    "    \n",
    "    \n",
    "#     if (cos_teta > 0):\n",
    "#         print (\"reachable\")\n",
    "    if cos_teta < 0:            # точка на объекте не видима с точки на мишени\n",
    "        return 0\n",
    "    \n",
    "    cos_teta1 = abs(get_cosin(n1, s1))\n",
    "    \n",
    "    sin_teta1 = abs(get_sin(n1, s1))\n",
    "    res = (sin_teta1 * cos_teta)\n",
    "    if (res < 0):\n",
    "        print (\"Achtung! res = \", res)\n",
    "    return res # * Im0\n",
    "\n",
    "# point - точка на цилиндре, n - нормаль к этой точке\n",
    "# t1 - верхняя левая точна мишени t2 - нижняя правая точка мишени (мишень - плоская)\n",
    "def integrate_one_point(point, n, t1, t2):\n",
    "    x_target = t1[0]\n",
    "    f= lambda y, z: get_function_value (np.array([x_target, y, z]), point, n)\n",
    "    (val, err) = integrate.dblquad(f, t1[1], t2[1], lambda z: t1[2], lambda z: t2[2], epsabs = 1e-2, epsrel=1e-2)\n",
    "#     print (val, err)\n",
    "    return val"
   ]
  },
  {
   "cell_type": "code",
   "execution_count": 22,
   "metadata": {},
   "outputs": [
    {
     "name": "stdout",
     "output_type": "stream",
     "text": [
      "0.0 0\n"
     ]
    },
    {
     "data": {
      "text/plain": [
       "0.0"
      ]
     },
     "execution_count": 22,
     "metadata": {},
     "output_type": "execute_result"
    }
   ],
   "source": [
    "integrate_one_point (np.array([50, -25, 0]), np.array([0, -1, 0]), np.array([150, 10, 20]), np.array([150, -10, -20]))"
   ]
  },
  {
   "cell_type": "code",
   "execution_count": 23,
   "metadata": {},
   "outputs": [],
   "source": [
    "def get_target_coords (L, Wm, Hm):\n",
    "    t1 = np.array([L, Wm/2, Hm/2])\n",
    "    t2 = np.array([L, -Wm/2, -Hm/2])\n",
    "    return (t1, t2)\n",
    "    "
   ]
  },
  {
   "cell_type": "code",
   "execution_count": 24,
   "metadata": {},
   "outputs": [],
   "source": [
    "# point_o - начальное положение точки на объекте относительно его центра\n",
    "def get_point_coords (point_center, Wo, start_angle, t, Ro):\n",
    "    alpha_o = (get_current_angle(Wo, t) + start_angle) % (2*np.pi)\n",
    "    point_o = np.array([0, Ro])\n",
    "    vec_o = rotate_point_0(point_o, alpha_o)\n",
    "    return point_center + vec_o"
   ]
  },
  {
   "cell_type": "code",
   "execution_count": 25,
   "metadata": {},
   "outputs": [],
   "source": [
    "def get_object_points(point_center, num, Wo, t, Ro):\n",
    "    res = []\n",
    "    delta = (2*np.pi) / (num)\n",
    "    for i in range (0, num):\n",
    "        p = get_point_coords (point_center, Wo, delta*i, t, Ro)\n",
    "        res.append([p[0], p[1], 0])\n",
    "    return res"
   ]
  },
  {
   "cell_type": "code",
   "execution_count": 26,
   "metadata": {},
   "outputs": [],
   "source": [
    "#get_object_points([0, 0], 12, 0.175, 0, Ro)"
   ]
  },
  {
   "cell_type": "code",
   "execution_count": 27,
   "metadata": {},
   "outputs": [],
   "source": [
    "turn_time = 6.283/ abs(Wb) # время полного оборота барабана"
   ]
  },
  {
   "cell_type": "code",
   "execution_count": 28,
   "metadata": {},
   "outputs": [
    {
     "data": {
      "text/plain": [
       "35.902857142857144"
      ]
     },
     "execution_count": 28,
     "metadata": {},
     "output_type": "execute_result"
    }
   ],
   "source": [
    "turn_time"
   ]
  },
  {
   "cell_type": "code",
   "execution_count": 81,
   "metadata": {},
   "outputs": [],
   "source": [
    "time_n = 50    # количество измерений за 1 оборот"
   ]
  },
  {
   "cell_type": "code",
   "execution_count": 82,
   "metadata": {},
   "outputs": [
    {
     "data": {
      "text/plain": [
       "0.7180571428571428"
      ]
     },
     "execution_count": 82,
     "metadata": {},
     "output_type": "execute_result"
    }
   ],
   "source": [
    "time_delta = turn_time / time_n\n",
    "time_delta"
   ]
  },
  {
   "cell_type": "code",
   "execution_count": 83,
   "metadata": {},
   "outputs": [],
   "source": [
    "turns_num = 5    # количество оборотов барабана"
   ]
  },
  {
   "cell_type": "code",
   "execution_count": 84,
   "metadata": {},
   "outputs": [
    {
     "data": {
      "text/plain": [
       "250"
      ]
     },
     "execution_count": 84,
     "metadata": {},
     "output_type": "execute_result"
    }
   ],
   "source": [
    "calc_num = time_n * turns_num\n",
    "calc_num"
   ]
  },
  {
   "cell_type": "code",
   "execution_count": null,
   "metadata": {},
   "outputs": [
    {
     "data": {
      "application/vnd.jupyter.widget-view+json": {
       "model_id": "9f49938f3afe4eea87db99665b511550",
       "version_major": 2,
       "version_minor": 0
      },
      "text/plain": [
       "HBox(children=(FloatProgress(value=0.0, max=250.0), HTML(value='')))"
      ]
     },
     "metadata": {},
     "output_type": "display_data"
    }
   ],
   "source": [
    "cur_time = 0\n",
    "obj_point_num = 24      # колчество точек на цилиндре, в которых вычисляется толщина\n",
    "\n",
    "res = np.zeros(obj_point_num)\n",
    "t1, t2 = get_target_coords (L, Wm, Hm)\n",
    "\n",
    "for i in tqdm.notebook.tqdm(range (0, calc_num)):\n",
    "#     print (\"\\nturn\\n\")\n",
    "    cent = get_object_center(Wb, starting_point_b, cur_time)\n",
    "    cent_3d = np.array([cent[0], cent[1], 0])\n",
    "    pts = get_object_points(cent, obj_point_num, Wo, cur_time, Ro)\n",
    "    \n",
    "    for i in range (0, obj_point_num):\n",
    "        p = pts[i]\n",
    "        normal = get_normal_vec(cent_3d, p)\n",
    "        normal_3d = np.array([normal[0], normal[1], 0])\n",
    "        \n",
    "        res[i] = res[i] + time_delta * integrate_one_point(pts[i], normal_3d, t1, t2)\n",
    "    \n",
    "    cur_time += time_delta\n",
    "\n",
    "    \n",
    "res"
   ]
  },
  {
   "cell_type": "code",
   "execution_count": null,
   "metadata": {},
   "outputs": [],
   "source": [
    "plt.figure()\n",
    "plt.plot(res)\n",
    "plt.ylim(bottom = 0)\n",
    "plt.show()"
   ]
  },
  {
   "cell_type": "code",
   "execution_count": null,
   "metadata": {},
   "outputs": [],
   "source": []
  },
  {
   "cell_type": "code",
   "execution_count": null,
   "metadata": {},
   "outputs": [],
   "source": []
  }
 ],
 "metadata": {
  "kernelspec": {
   "display_name": "Python 3",
   "language": "python",
   "name": "python3"
  },
  "language_info": {
   "codemirror_mode": {
    "name": "ipython",
    "version": 3
   },
   "file_extension": ".py",
   "mimetype": "text/x-python",
   "name": "python",
   "nbconvert_exporter": "python",
   "pygments_lexer": "ipython3",
   "version": "3.7.6"
  }
 },
 "nbformat": 4,
 "nbformat_minor": 2
}
